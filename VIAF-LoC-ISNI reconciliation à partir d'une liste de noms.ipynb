{
 "cells": [
  {
   "cell_type": "code",
   "execution_count": 1,
   "metadata": {},
   "outputs": [
    {
     "name": "stdout",
     "output_type": "stream",
     "text": [
      "http://viaf.org/viaf/search/viaf?query=local.personalNames+%3D+%22Fussler%20Herman%20H.%22+and+local.sources+%3D+%22lc%22&sortKeys=holdingscount&maximumRecords=1&httpAccept=application/rdf+json\n",
      "108492 820\n",
      "Fussler, Herman Howe, 1914-....\n",
      "http://viaf.org/viaf/search/viaf?query=local.personalNames+%3D+%22Hitler%20Adolf%22+and+local.sources+%3D+%22lc%22&sortKeys=holdingscount&maximumRecords=1&httpAccept=application/rdf+json\n",
      "825334 822\n",
      "Hitler, Adolf, 1889-1945.\n",
      "http://viaf.org/viaf/search/viaf?query=local.personalNames+%3D+%22Mussolini%20Benito%22+and+local.sources+%3D+%22lc%22&sortKeys=holdingscount&maximumRecords=1&httpAccept=application/rdf+json\n",
      "825333 821\n",
      "Hitler, Adolf, 1889-1945.\n",
      "http://viaf.org/viaf/search/viaf?query=local.personalNames+%3D+%22Blum%20L%C3%A9on%22+and+local.sources+%3D+%22lc%22&sortKeys=holdingscount&maximumRecords=1&httpAccept=application/rdf+json\n",
      "364508 820\n",
      "Blum, Léon, 1872-1950\n",
      "http://viaf.org/viaf/search/viaf?query=local.personalNames+%3D+%22Lebrun%20Albert%22+and+local.sources+%3D+%22lc%22&sortKeys=holdingscount&maximumRecords=1&httpAccept=application/rdf+json\n",
      "131218 820\n",
      "Lebrun, Albert, 1871-1950.\n",
      "http://viaf.org/viaf/search/viaf?query=local.personalNames+%3D+%22Cain%20Julien%22+and+local.sources+%3D+%22lc%22&sortKeys=holdingscount&maximumRecords=1&httpAccept=application/rdf+json\n",
      "228849 820\n",
      "Dahl, Svend, 1887-1963\n",
      "http://viaf.org/viaf/search/viaf?query=local.personalNames+%3D+%22de%20Saint%20Rat%20L.%22+and+local.sources+%3D+%22lc%22&sortKeys=holdingscount&maximumRecords=1&httpAccept=application/rdf+json\n",
      "6088 820\n",
      "De Saint-Rat, A. L. (André L.)\n"
     ]
    },
    {
     "ename": "KeyError",
     "evalue": "'ISNI'",
     "output_type": "error",
     "traceback": [
      "\u001b[1;31m---------------------------------------------------------------------------\u001b[0m",
      "\u001b[1;31mKeyError\u001b[0m                                  Traceback (most recent call last)",
      "\u001b[1;32m<ipython-input-1-b630867fa92e>\u001b[0m in \u001b[0;36m<module>\u001b[1;34m\u001b[0m\n\u001b[0;32m     64\u001b[0m             \u001b[1;32mtry\u001b[0m\u001b[1;33m:\u001b[0m\u001b[1;33m\u001b[0m\u001b[1;33m\u001b[0m\u001b[0m\n\u001b[0;32m     65\u001b[0m                 \u001b[0misni\u001b[0m \u001b[1;33m=\u001b[0m \u001b[1;34m'http://isni.org/isni/'\u001b[0m\u001b[1;33m\u001b[0m\u001b[1;33m\u001b[0m\u001b[0m\n\u001b[1;32m---> 66\u001b[1;33m                 \u001b[0misni\u001b[0m \u001b[1;33m=\u001b[0m \u001b[0misni\u001b[0m \u001b[1;33m+\u001b[0m \u001b[0mjson\u001b[0m\u001b[1;33m.\u001b[0m\u001b[0mdumps\u001b[0m\u001b[1;33m(\u001b[0m\u001b[0mlinks\u001b[0m\u001b[1;33m[\u001b[0m\u001b[1;34m'ISNI'\u001b[0m\u001b[1;33m]\u001b[0m\u001b[1;33m[\u001b[0m\u001b[1;36m0\u001b[0m\u001b[1;33m]\u001b[0m\u001b[1;33m)\u001b[0m\u001b[1;33m.\u001b[0m\u001b[0mreplace\u001b[0m\u001b[1;33m(\u001b[0m\u001b[1;34m'\"'\u001b[0m\u001b[1;33m,\u001b[0m \u001b[1;34m''\u001b[0m\u001b[1;33m)\u001b[0m\u001b[1;33m\u001b[0m\u001b[1;33m\u001b[0m\u001b[0m\n\u001b[0m\u001b[0;32m     67\u001b[0m             \u001b[1;32mexcept\u001b[0m \u001b[0mValueError\u001b[0m\u001b[1;33m:\u001b[0m\u001b[1;33m\u001b[0m\u001b[1;33m\u001b[0m\u001b[0m\n\u001b[0;32m     68\u001b[0m                 \u001b[0misni\u001b[0m \u001b[1;33m=\u001b[0m \u001b[1;34m''\u001b[0m\u001b[1;33m\u001b[0m\u001b[1;33m\u001b[0m\u001b[0m\n",
      "\u001b[1;31mKeyError\u001b[0m: 'ISNI'"
     ]
    }
   ],
   "source": [
    "# VIAF LoC ISNI reconciliation à a partir d'une liste de noms\n",
    "#script original https://github.com/ehanson8/linked-data-reconciliation-python-scripts\n",
    "# -*- encoding: utf-8 -*- ajouté pour éviter l'erreur fréquente charset\n",
    "# votre people.csv en entrée DOIT ETRE ENCODE EN UTF-8 première ligne name sans \"\", un nom par ligne, pas de ligne vide \n",
    "import requests\n",
    "import csv\n",
    "from fuzzywuzzy import fuzz\n",
    "import json \n",
    "import urllib\n",
    "import html\n",
    "\n",
    "baseURL = 'http://viaf.org/viaf/search/viaf?query=local.personalNames+%3D+%22'\n",
    "f = csv.writer(open('viafPeopleResults.csv', 'w', encoding='utf-8'))\n",
    "f.writerow(['search'] + ['result'] + ['viaf'] + ['lc'] + ['isni'] + ['ratio']\n",
    "           + ['partialRatio'] + ['tokenSort'] + ['tokenSet'] + ['avg'])\n",
    "with open('people.csv', encoding='utf-8') as csvfile:\n",
    "    reader = csv.DictReader(csvfile)\n",
    "    for row in reader:\n",
    "        name = str(row['name'])\n",
    "        rowEdited = urllib.parse.quote(name.strip())\n",
    "        urlSuffix = '%22+and+local.sources+%3D+%22lc%22&sortKeys=holdingscount'\n",
    "        urlSuffix2 = '&maximumRecords=1&httpAccept=application/rdf+json'\n",
    "        url = baseURL + rowEdited + urlSuffix + urlSuffix2\n",
    "        print(url)\n",
    "        response = requests.get(url).content.decode('utf-8')\n",
    "        try:\n",
    "            startString = '<recordData xsi:type=\"ns1:stringOrXmlFragment\">'\n",
    "            startIndex = response.index(startString)\n",
    "            endString = '</recordData>'\n",
    "            endIndex = response.index(endString)\n",
    "            print(endIndex, startIndex)\n",
    "            response = response[startIndex + 47: endIndex]\n",
    "            response = response.replace('&quot;', '\"')\n",
    "            response = json.loads(response)\n",
    "            label = response['mainHeadings']['data']\n",
    "            if isinstance(label, list):\n",
    "                label = label[0]['text']\n",
    "            else:\n",
    "                label = label['text']\n",
    "            label = html.unescape(label)\n",
    "            print(label)\n",
    "            viafid = response['viafID']\n",
    "        except ValueError:\n",
    "            label = ''\n",
    "            viafid = ''\n",
    "#calcul du ratio de similarité entre la chaine de caractères entrée et celles obtenues.             \n",
    "        ratio = fuzz.ratio(name, label)\n",
    "        partialRatio = fuzz.partial_ratio(name, label)\n",
    "        tokenSort = fuzz.token_sort_ratio(name, label)\n",
    "        tokenSet = fuzz.token_set_ratio(name, label)\n",
    "        avg = (ratio + partialRatio + tokenSort + tokenSet) / 4\n",
    "\n",
    "        if viafid != '':\n",
    "            links = json.loads(requests.get('http://viaf.org/viaf/' + viafid\n",
    "                               + '/justlinks.json').text)\n",
    "            viafid = 'http://viaf.org/viaf/' + viafid\n",
    "# tente le mapping avec Library Of Congress         \n",
    "            try:\n",
    "                lc = 'http://id.loc.gov/authorities/names/'\n",
    "                lc = lc + json.dumps(links['LC'][0]).replace('\"', '')\n",
    "            except ValueError:\n",
    "                lc = ''\n",
    "# tente le mapping avec ISNI commenté ici car pas utile/redondant avec Viaf pour mon projet. Pour un résumé de la distinction entre les 2 http://moodle.abes.fr/pluginfile.php/5331/mod_resource/content/0/2015_S13_IdRef_%20Usages_pertinence_et_fonctions_de_VIAF_et_ISNI.pdf\n",
    "#            try:\n",
    "#                isni = 'http://isni.org/isni/'\n",
    "#                isni = isni + json.dumps(links['ISNI'][0]).replace('\"', '')\n",
    "#            except ValueError:\n",
    "#                isni = ''\n",
    "        else:\n",
    "            lc = ''\n",
    "        f.writerow([name.strip()] + [label] + [viafid] + [lc]\n",
    "                   + [ratio] + [partialRatio] + [tokenSort]\n",
    "                   + [tokenSet] + [avg])\n",
    "        \n",
    "# si le script se déroule bien la sortie est un fichier viafPeopleResults.csv avec les colonnes search, result (attention aux homonymes) l'id Viaf l'id LoC et un ratio de similarité terme recherché/terme obtenu "
   ]
  },
  {
   "cell_type": "code",
   "execution_count": null,
   "metadata": {},
   "outputs": [],
   "source": []
  },
  {
   "cell_type": "code",
   "execution_count": null,
   "metadata": {},
   "outputs": [],
   "source": []
  },
  {
   "cell_type": "code",
   "execution_count": null,
   "metadata": {},
   "outputs": [],
   "source": []
  },
  {
   "cell_type": "code",
   "execution_count": null,
   "metadata": {},
   "outputs": [],
   "source": []
  }
 ],
 "metadata": {
  "kernelspec": {
   "display_name": "Python 3",
   "language": "python",
   "name": "python3"
  },
  "language_info": {
   "codemirror_mode": {
    "name": "ipython",
    "version": 3
   },
   "file_extension": ".py",
   "mimetype": "text/x-python",
   "name": "python",
   "nbconvert_exporter": "python",
   "pygments_lexer": "ipython3",
   "version": "3.7.4"
  }
 },
 "nbformat": 4,
 "nbformat_minor": 2
}
