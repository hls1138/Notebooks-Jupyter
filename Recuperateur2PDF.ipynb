{
 "cells": [
  {
   "cell_type": "code",
   "execution_count": 51,
   "metadata": {},
   "outputs": [],
   "source": [
    "#Un scrapper de pdf. Par exemple sur un site hébergant une multitude de pdf sous forme de liens dans une <div> spécifique.\n",
    "#L'idéal est d'utiliser la console de votre navigateur (Ctrl+Maj+I) pour identifier des motifs récurents dans le code html.  \n",
    "\n",
    "from urllib.parse import urlparse\n",
    "import scrapy\n",
    "from scrapy.http import Request\n",
    "\n",
    "class recup(scrapy.Spider):\n",
    "    name = \"recup\"\n",
    "\n",
    "# choix du domaine à parser \n",
    "    allowed_domains = [\"www.domaine.com\"]\n",
    "# page à parser\n",
    "    start_urls = [\"http://www.domaine.com.html\"]\n",
    "    \n",
    "# récupère les liens de type div h3 (à changer pour cibler d'autre liens)\n",
    "    def parse(self, response):\n",
    "        for href in response.css('div#all_results h3 a::attr(href)').extract():\n",
    "            yield Request(\n",
    "                url=response.urljoin(href),\n",
    "                callback=self.parse_article\n",
    "            )\n",
    "# pour tout lien ayant une extension en .pdf lance la fontion save_pdf\n",
    "    def parse_article(self, response):\n",
    "        for href in response.css('div.download_wrapper a[href$=\".pdf\"]::attr(href)').extract():\n",
    "            yield Request(\n",
    "                url=response.urljoin(href),\n",
    "                callback=self.save_pdf\n",
    "            )\n",
    "\n",
    "# sauvegarde les pdf\n",
    "    def save_pdf(self, response):\n",
    "        path = response.url.split('/')[-1]\n",
    "        self.logger.info('Saving PDF %s', path)\n",
    "        with open(path, 'wb') as f:\n",
    "            f.write(response.body)\n",
    "            \n",
    "\n",
    "            \n",
    "            "
   ]
  }
 ],
 "metadata": {
  "kernelspec": {
   "display_name": "Python 3",
   "language": "python",
   "name": "python3"
  },
  "language_info": {
   "codemirror_mode": {
    "name": "ipython",
    "version": 3
   },
   "file_extension": ".py",
   "mimetype": "text/x-python",
   "name": "python",
   "nbconvert_exporter": "python",
   "pygments_lexer": "ipython3",
   "version": "3.7.4"
  }
 },
 "nbformat": 4,
 "nbformat_minor": 2
}
